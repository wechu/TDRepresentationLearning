{
 "cells": [
  {
   "cell_type": "markdown",
   "id": "2f723780-f1f7-4b4a-97e5-4b996c8454c5",
   "metadata": {},
   "source": [
    "## Minatar code analysis from Kenny and Tian\n",
    "Running their code and inspecting the learned representations\n",
    "    "
   ]
  },
  {
   "cell_type": "code",
   "execution_count": 1,
   "id": "98cf19c2-a21c-4796-8cb5-b21ac742abf1",
   "metadata": {},
   "outputs": [],
   "source": [
    "from MinAtar.examples.dqn import *\n",
    "import numpy as np\n",
    "import matplotlib.pyplot as plt\n",
    "import torch\n",
    "path = \"MinAtar/examples/saves/\"\n",
    "game = \"breakout\"\n",
    "load_path = path + game + \"_checkpoint_{i}.pyt\"  # use .format(i=100) for example \n",
    "\n",
    "## Note that the saved files are kept in the original saved format \n",
    "# Written in the next cell"
   ]
  },
  {
   "cell_type": "code",
   "execution_count": 2,
   "id": "cf021c27-2cf0-4443-bbae-ad76b1bcfbde",
   "metadata": {},
   "outputs": [],
   "source": [
    "# if store_intermediate_result and t % 100 == 0:  \n",
    "#     torch.save({\n",
    "#                 'episode': e,\n",
    "#                 'frame': t,\n",
    "#                 'policy_net_update_counter': policy_net_update_counter,\n",
    "#                 'policy_net_state_dict': policy_net.state_dict(),\n",
    "#                 'target_net_state_dict': target_net.state_dict() if not target_off else [],\n",
    "#                 'optimizer_state_dict': optimizer.state_dict(),\n",
    "#                 'avg_return': avg_return,\n",
    "#                 'return_per_run': data_return,\n",
    "#                 'frame_stamp_per_run': frame_stamp,\n",
    "#                 'replay_buffer': r_buffer if not replay_off else []\n",
    "#     }, output_file_name + f\"_checkpoint_{e}.pyt\")"
   ]
  },
  {
   "cell_type": "code",
   "execution_count": 3,
   "id": "2561e859-b9b0-4f3b-921d-c9f151944ebf",
   "metadata": {},
   "outputs": [],
   "source": [
    "idxs = np.arange(1,6)*100"
   ]
  },
  {
   "cell_type": "code",
   "execution_count": 13,
   "id": "34681df6-650d-46fe-bb6c-7acfbff67713",
   "metadata": {},
   "outputs": [
    {
     "name": "stdout",
     "output_type": "stream",
     "text": [
      "[0, 10, 10, 4]\n"
     ]
    }
   ],
   "source": [
    "env = Environment(game)\n",
    "in_channels = env.state_shape()[2]\n",
    "num_actions = env.num_actions()\n",
    "device = 'cpu'\n",
    "\n",
    "print([1, *env.state_shape()])\n",
    "# initialize networks\n",
    "policy_net = QNetwork(in_channels, num_actions).to(device)\n",
    "target_net = QNetwork(in_channels, num_actions).to(device)\n",
    "target_net.load_state_dict(policy_net.state_dict())\n",
    "\n",
    "# load checkpoint\n",
    "checkpoint = torch.load(load_path.format(i=100))\n",
    "\n",
    "policy_net.load_state_dict(checkpoint['policy_net_state_dict'])\n",
    "target_net.load_state_dict(checkpoint['target_net_state_dict'])\n",
    "\n",
    "e_init = checkpoint['episode']\n",
    "t_init = checkpoint['frame']\n",
    "policy_net_update_counter_init = checkpoint['policy_net_update_counter']\n",
    "avg_return_init = checkpoint['avg_return']\n",
    "data_return_init = checkpoint['return_per_run']\n",
    "frame_stamp_init = checkpoint['frame_stamp_per_run']\n",
    "r_buffer = checkpoint['replay_buffer']\n"
   ]
  },
  {
   "cell_type": "code",
   "execution_count": 30,
   "id": "05ca539d-5ad9-4d14-ab96-c36f0b745adc",
   "metadata": {},
   "outputs": [],
   "source": [
    "\n",
    "\n",
    "test = get_state(np.zeros(shape=env.state_shape()))\n",
    "\n",
    "out, reps = policy_net.forward(test, output_rep=True)\n",
    "layer_1, layer_2 = reps\n"
   ]
  },
  {
   "cell_type": "code",
   "execution_count": 33,
   "id": "ddd93be2-6ab0-43ef-b855-8d1178d7d950",
   "metadata": {},
   "outputs": [],
   "source": [
    "test_states = torch.load(path + game + \"_test_states.pyt\")"
   ]
  },
  {
   "cell_type": "code",
   "execution_count": 81,
   "id": "4bf4b082-4dd2-42f0-8c2f-a3b89436e77a",
   "metadata": {},
   "outputs": [],
   "source": [
    "\n",
    "def get_test_features(test_states, agent_network):\n",
    "    output, reps = agent_network.forward(test_states, output_rep=True)\n",
    "    layer_1, layer_2 = reps\n",
    "    layer_1.detach().numpy()\n",
    "    return layer_1.detach().numpy(), layer_2.detach().numpy()\n",
    "\n",
    "def plot_test_feature_matrix(iteration):\n",
    "    ''' Plots the feature matrix for the given update iteration.\n",
    "    Assumes we have them saved.'''\n",
    "    \n",
    "    policy_net = QNetwork(in_channels, num_actions).to(device)\n",
    "    checkpoint = torch.load(load_path.format(i=iteration))\n",
    "    policy_net.load_state_dict(checkpoint['policy_net_state_dict'])\n",
    "\n",
    "    layer_1, layer_2 = get_test_features(test_states, policy_net)\n",
    "    activations_1 = (layer_1 > 0).astype('float')\n",
    "    activations_2 = (layer_2 > 0).astype('float')\n",
    "\n",
    "    sort_1_idx = np.lexsort(activations_1)\n",
    "    sort_2_idx = np.lexsort(activations_2)\n",
    "    \n",
    "    f, axes = plt.subplots(1,2, figsize=(12,6))\n",
    "    axes[0].imshow(activations_1[:, sort_1_idx].T, aspect='auto', cmap=plt.cm.gray, interpolation='none')\n",
    "    axes[1].imshow(activations_2[:, sort_2_idx].T, aspect='auto', cmap=plt.cm.gray, interpolation='none')\n",
    "\n",
    "    axes[0].set_title(f'Layer 1')\n",
    "    axes[1].set_title(f'Layer 2')\n",
    "    \n",
    "    f.suptitle(f'{game} (iter {iteration})')\n",
    "    f.tight_layout()\n",
    "    # plt.title(f\"iteration {iteration}\")\n",
    "    \n",
    "# f.supxlabel('states')\n",
    "# f.supylabel('features')\n"
   ]
  },
  {
   "cell_type": "code",
   "execution_count": 83,
   "id": "d056c1fb-def8-49ef-a8d0-bf0c08176feb",
   "metadata": {},
   "outputs": [
    {
     "name": "stdout",
     "output_type": "stream",
     "text": [
      "5000\n",
      "5100\n",
      "5200\n",
      "5300\n",
      "5400\n",
      "5500\n",
      "5600\n",
      "5700\n",
      "5800\n",
      "5900\n",
      "6000\n",
      "6100\n",
      "6200\n",
      "6300\n",
      "6400\n",
      "6500\n",
      "6600\n",
      "6700\n",
      "6800\n",
      "6900\n"
     ]
    },
    {
     "name": "stderr",
     "output_type": "stream",
     "text": [
      "/tmp/ipykernel_14150/1613649219.py:23: RuntimeWarning: More than 20 figures have been opened. Figures created through the pyplot interface (`matplotlib.pyplot.figure`) are retained until explicitly closed and may consume too much memory. (To control this warning, see the rcParam `figure.max_open_warning`).\n",
      "  f, axes = plt.subplots(1,2, figsize=(12,6))\n"
     ]
    },
    {
     "name": "stdout",
     "output_type": "stream",
     "text": [
      "7000\n"
     ]
    },
    {
     "name": "stderr",
     "output_type": "stream",
     "text": [
      "/tmp/ipykernel_14150/1613649219.py:22: RuntimeWarning: More than 20 figures have been opened. Figures created through the pyplot interface (`matplotlib.pyplot.figure`) are retained until explicitly closed and may consume too much memory. (To control this warning, see the rcParam `figure.max_open_warning`).\n",
      "  plt.figure()\n"
     ]
    },
    {
     "name": "stdout",
     "output_type": "stream",
     "text": [
      "7100\n",
      "7200\n",
      "7300\n",
      "7400\n",
      "7500\n",
      "7600\n",
      "7700\n",
      "7800\n",
      "7900\n",
      "8000\n",
      "8100\n",
      "8200\n",
      "8300\n",
      "8400\n",
      "8500\n",
      "8600\n",
      "8700\n",
      "8800\n",
      "8900\n",
      "9000\n",
      "9100\n",
      "9200\n",
      "9300\n",
      "9400\n",
      "9500\n",
      "9600\n",
      "9700\n",
      "9800\n",
      "9900\n"
     ]
    },
    {
     "data": {
      "text/plain": [
       "<matplotlib.pyplot._IonContext at 0x7f1c310e6310>"
      ]
     },
     "execution_count": 83,
     "metadata": {},
     "output_type": "execute_result"
    },
    {
     "data": {
      "text/plain": [
       "<Figure size 432x288 with 0 Axes>"
      ]
     },
     "metadata": {},
     "output_type": "display_data"
    },
    {
     "data": {
      "text/plain": [
       "<Figure size 432x288 with 0 Axes>"
      ]
     },
     "metadata": {},
     "output_type": "display_data"
    },
    {
     "data": {
      "text/plain": [
       "<Figure size 432x288 with 0 Axes>"
      ]
     },
     "metadata": {},
     "output_type": "display_data"
    },
    {
     "data": {
      "text/plain": [
       "<Figure size 432x288 with 0 Axes>"
      ]
     },
     "metadata": {},
     "output_type": "display_data"
    },
    {
     "data": {
      "text/plain": [
       "<Figure size 432x288 with 0 Axes>"
      ]
     },
     "metadata": {},
     "output_type": "display_data"
    },
    {
     "data": {
      "text/plain": [
       "<Figure size 432x288 with 0 Axes>"
      ]
     },
     "metadata": {},
     "output_type": "display_data"
    },
    {
     "data": {
      "text/plain": [
       "<Figure size 432x288 with 0 Axes>"
      ]
     },
     "metadata": {},
     "output_type": "display_data"
    },
    {
     "data": {
      "text/plain": [
       "<Figure size 432x288 with 0 Axes>"
      ]
     },
     "metadata": {},
     "output_type": "display_data"
    },
    {
     "data": {
      "text/plain": [
       "<Figure size 432x288 with 0 Axes>"
      ]
     },
     "metadata": {},
     "output_type": "display_data"
    },
    {
     "data": {
      "text/plain": [
       "<Figure size 432x288 with 0 Axes>"
      ]
     },
     "metadata": {},
     "output_type": "display_data"
    },
    {
     "data": {
      "text/plain": [
       "<Figure size 432x288 with 0 Axes>"
      ]
     },
     "metadata": {},
     "output_type": "display_data"
    },
    {
     "data": {
      "text/plain": [
       "<Figure size 432x288 with 0 Axes>"
      ]
     },
     "metadata": {},
     "output_type": "display_data"
    },
    {
     "data": {
      "text/plain": [
       "<Figure size 432x288 with 0 Axes>"
      ]
     },
     "metadata": {},
     "output_type": "display_data"
    },
    {
     "data": {
      "text/plain": [
       "<Figure size 432x288 with 0 Axes>"
      ]
     },
     "metadata": {},
     "output_type": "display_data"
    },
    {
     "data": {
      "text/plain": [
       "<Figure size 432x288 with 0 Axes>"
      ]
     },
     "metadata": {},
     "output_type": "display_data"
    },
    {
     "data": {
      "text/plain": [
       "<Figure size 432x288 with 0 Axes>"
      ]
     },
     "metadata": {},
     "output_type": "display_data"
    },
    {
     "data": {
      "text/plain": [
       "<Figure size 432x288 with 0 Axes>"
      ]
     },
     "metadata": {},
     "output_type": "display_data"
    },
    {
     "data": {
      "text/plain": [
       "<Figure size 432x288 with 0 Axes>"
      ]
     },
     "metadata": {},
     "output_type": "display_data"
    },
    {
     "data": {
      "text/plain": [
       "<Figure size 432x288 with 0 Axes>"
      ]
     },
     "metadata": {},
     "output_type": "display_data"
    },
    {
     "data": {
      "text/plain": [
       "<Figure size 432x288 with 0 Axes>"
      ]
     },
     "metadata": {},
     "output_type": "display_data"
    },
    {
     "data": {
      "text/plain": [
       "<Figure size 432x288 with 0 Axes>"
      ]
     },
     "metadata": {},
     "output_type": "display_data"
    },
    {
     "data": {
      "text/plain": [
       "<Figure size 432x288 with 0 Axes>"
      ]
     },
     "metadata": {},
     "output_type": "display_data"
    },
    {
     "data": {
      "text/plain": [
       "<Figure size 432x288 with 0 Axes>"
      ]
     },
     "metadata": {},
     "output_type": "display_data"
    },
    {
     "data": {
      "text/plain": [
       "<Figure size 432x288 with 0 Axes>"
      ]
     },
     "metadata": {},
     "output_type": "display_data"
    },
    {
     "data": {
      "text/plain": [
       "<Figure size 432x288 with 0 Axes>"
      ]
     },
     "metadata": {},
     "output_type": "display_data"
    },
    {
     "data": {
      "text/plain": [
       "<Figure size 432x288 with 0 Axes>"
      ]
     },
     "metadata": {},
     "output_type": "display_data"
    },
    {
     "data": {
      "text/plain": [
       "<Figure size 432x288 with 0 Axes>"
      ]
     },
     "metadata": {},
     "output_type": "display_data"
    },
    {
     "data": {
      "text/plain": [
       "<Figure size 432x288 with 0 Axes>"
      ]
     },
     "metadata": {},
     "output_type": "display_data"
    },
    {
     "data": {
      "text/plain": [
       "<Figure size 432x288 with 0 Axes>"
      ]
     },
     "metadata": {},
     "output_type": "display_data"
    },
    {
     "data": {
      "text/plain": [
       "<Figure size 432x288 with 0 Axes>"
      ]
     },
     "metadata": {},
     "output_type": "display_data"
    },
    {
     "data": {
      "text/plain": [
       "<Figure size 432x288 with 0 Axes>"
      ]
     },
     "metadata": {},
     "output_type": "display_data"
    },
    {
     "data": {
      "text/plain": [
       "<Figure size 432x288 with 0 Axes>"
      ]
     },
     "metadata": {},
     "output_type": "display_data"
    },
    {
     "data": {
      "text/plain": [
       "<Figure size 432x288 with 0 Axes>"
      ]
     },
     "metadata": {},
     "output_type": "display_data"
    },
    {
     "data": {
      "text/plain": [
       "<Figure size 432x288 with 0 Axes>"
      ]
     },
     "metadata": {},
     "output_type": "display_data"
    },
    {
     "data": {
      "text/plain": [
       "<Figure size 432x288 with 0 Axes>"
      ]
     },
     "metadata": {},
     "output_type": "display_data"
    },
    {
     "data": {
      "text/plain": [
       "<Figure size 432x288 with 0 Axes>"
      ]
     },
     "metadata": {},
     "output_type": "display_data"
    },
    {
     "data": {
      "text/plain": [
       "<Figure size 432x288 with 0 Axes>"
      ]
     },
     "metadata": {},
     "output_type": "display_data"
    },
    {
     "data": {
      "text/plain": [
       "<Figure size 432x288 with 0 Axes>"
      ]
     },
     "metadata": {},
     "output_type": "display_data"
    },
    {
     "data": {
      "text/plain": [
       "<Figure size 432x288 with 0 Axes>"
      ]
     },
     "metadata": {},
     "output_type": "display_data"
    },
    {
     "data": {
      "text/plain": [
       "<Figure size 432x288 with 0 Axes>"
      ]
     },
     "metadata": {},
     "output_type": "display_data"
    },
    {
     "data": {
      "text/plain": [
       "<Figure size 432x288 with 0 Axes>"
      ]
     },
     "metadata": {},
     "output_type": "display_data"
    },
    {
     "data": {
      "text/plain": [
       "<Figure size 432x288 with 0 Axes>"
      ]
     },
     "metadata": {},
     "output_type": "display_data"
    },
    {
     "data": {
      "text/plain": [
       "<Figure size 432x288 with 0 Axes>"
      ]
     },
     "metadata": {},
     "output_type": "display_data"
    },
    {
     "data": {
      "text/plain": [
       "<Figure size 432x288 with 0 Axes>"
      ]
     },
     "metadata": {},
     "output_type": "display_data"
    },
    {
     "data": {
      "text/plain": [
       "<Figure size 432x288 with 0 Axes>"
      ]
     },
     "metadata": {},
     "output_type": "display_data"
    },
    {
     "data": {
      "text/plain": [
       "<Figure size 432x288 with 0 Axes>"
      ]
     },
     "metadata": {},
     "output_type": "display_data"
    },
    {
     "data": {
      "text/plain": [
       "<Figure size 432x288 with 0 Axes>"
      ]
     },
     "metadata": {},
     "output_type": "display_data"
    },
    {
     "data": {
      "text/plain": [
       "<Figure size 432x288 with 0 Axes>"
      ]
     },
     "metadata": {},
     "output_type": "display_data"
    },
    {
     "data": {
      "text/plain": [
       "<Figure size 432x288 with 0 Axes>"
      ]
     },
     "metadata": {},
     "output_type": "display_data"
    },
    {
     "data": {
      "text/plain": [
       "<Figure size 432x288 with 0 Axes>"
      ]
     },
     "metadata": {},
     "output_type": "display_data"
    }
   ],
   "source": [
    "plt.ioff()\n",
    "idxs =5000+np.arange(0,50)*100\n",
    "for i in idxs:\n",
    "    print(i)\n",
    "    plot_test_feature_matrix(i)\n",
    "    plt.savefig(f'{path}figs/feature_matrix_{i}.png')\n",
    "    plt.close()\n",
    "plt.ion()"
   ]
  },
  {
   "cell_type": "code",
   "execution_count": 87,
   "id": "fa4bbf59-4965-45ea-b97f-aab9486f387d",
   "metadata": {},
   "outputs": [
    {
     "name": "stderr",
     "output_type": "stream",
     "text": [
      "/tmp/ipykernel_14150/783244979.py:7: DeprecationWarning: Starting with ImageIO v3 the behavior of this function will switch to that of iio.v3.imread. To keep the current behavior (and make this warning dissapear) use `import imageio.v2 as imageio` or call `imageio.v2.imread` directly.\n",
      "  image = iio.imread(name)\n",
      "gifsicle: warning: trivial adaptive palette (only 4 colors in source)\n"
     ]
    }
   ],
   "source": [
    "import imageio as iio\n",
    "idxs =5000+np.arange(0,50)*100\n",
    "\n",
    "with iio.get_writer(f'{path}feature_matrix.gif', mode=\"I\", fps=3) as writer:\n",
    "    for i in idxs:\n",
    "        name = f\"{path}figs/feature_matrix_{i}.png\"\n",
    "        image = iio.imread(name)\n",
    "        writer.append_data(image)\n",
    "\n",
    "import pygifsicle\n",
    "pygifsicle.optimize(f\"{path}feature_matrix.gif\", f\"{path}feature_matrix.gif\")  "
   ]
  },
  {
   "cell_type": "code",
   "execution_count": null,
   "id": "e50645f7-5701-4098-805e-62cf46501a6a",
   "metadata": {},
   "outputs": [],
   "source": []
  }
 ],
 "metadata": {
  "kernelspec": {
   "display_name": "Python 3 (ipykernel)",
   "language": "python",
   "name": "python3"
  },
  "language_info": {
   "codemirror_mode": {
    "name": "ipython",
    "version": 3
   },
   "file_extension": ".py",
   "mimetype": "text/x-python",
   "name": "python",
   "nbconvert_exporter": "python",
   "pygments_lexer": "ipython3",
   "version": "3.8.12"
  }
 },
 "nbformat": 4,
 "nbformat_minor": 5
}
